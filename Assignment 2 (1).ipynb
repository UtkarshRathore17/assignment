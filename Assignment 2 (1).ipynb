{
 "cells": [
  {
   "cell_type": "code",
   "execution_count": 3,
   "id": "9b53334b-c84b-4481-8309-b49afc47f1a5",
   "metadata": {},
   "outputs": [
    {
     "data": {
      "text/plain": [
       "[('Virat Kohli', 24936),\n",
       " ('Jack Kallis', 25534),\n",
       " ('Ricky Ponting', 27483),\n",
       " ('Sachin Tendulkar', 34357)]"
      ]
     },
     "execution_count": 3,
     "metadata": {},
     "output_type": "execute_result"
    }
   ],
   "source": [
    "#Q1\n",
    "data=[('Sachin Tendulkar', 34357), ('Ricky Ponting', 27483), ('Jack Kallis', 25534), ('Virat Kohli', 24936)]\n",
    "a = sorted(data, key=lambda x: x[1])\n",
    "a"
   ]
  },
  {
   "cell_type": "code",
   "execution_count": 4,
   "id": "bff16b9f-8d87-423f-bbd5-611cd9779179",
   "metadata": {},
   "outputs": [
    {
     "data": {
      "text/plain": [
       "[1, 4, 9, 16, 25, 36, 49, 64, 81, 100]"
      ]
     },
     "execution_count": 4,
     "metadata": {},
     "output_type": "execute_result"
    }
   ],
   "source": [
    "#Q2\n",
    "b=[1, 2, 3, 4, 5, 6, 7, 8, 9, 10]\n",
    "list(map(lambda x:x**2,b))\n"
   ]
  },
  {
   "cell_type": "code",
   "execution_count": 15,
   "id": "96f9b944-5eae-4c75-8a53-9414fa2ea17f",
   "metadata": {},
   "outputs": [
    {
     "data": {
      "text/plain": [
       "('1', '2', '3', '4', '5', '6', '7', '8', '9', '10')"
      ]
     },
     "execution_count": 15,
     "metadata": {},
     "output_type": "execute_result"
    }
   ],
   "source": [
    "#Q3\n",
    "c=[1, 2, 3, 4, 5, 6, 7, 8, 9, 10]\n",
    "tuple(map(lambda x:str(x),c))\n"
   ]
  },
  {
   "cell_type": "code",
   "execution_count": 22,
   "id": "b1281fc9-af22-4f61-b7a0-22d74bfc1371",
   "metadata": {},
   "outputs": [
    {
     "data": {
      "text/plain": [
       "15511210043330985984000000"
      ]
     },
     "execution_count": 22,
     "metadata": {},
     "output_type": "execute_result"
    }
   ],
   "source": [
    "#Q4\n",
    "\n",
    "from functools import reduce\n",
    "d=list(range(1,26))\n",
    "reduce(lambda x,y:x*y,d)\n"
   ]
  },
  {
   "cell_type": "code",
   "execution_count": 27,
   "id": "504a6d39-e2bd-4f64-b8cb-31f75db2d556",
   "metadata": {},
   "outputs": [
    {
     "data": {
      "text/plain": [
       "[2, 3, 6, 9, 27, 60, 90, 120, 46]"
      ]
     },
     "execution_count": 27,
     "metadata": {},
     "output_type": "execute_result"
    }
   ],
   "source": [
    "#Q5\n",
    "e=[2, 3, 6, 9, 27, 60, 90, 120, 55, 59,67,17,46]\n",
    "list(filter(lambda x: x%2==0 or x%3==0   ,e))"
   ]
  },
  {
   "cell_type": "code",
   "execution_count": 33,
   "id": "9077d88e-2324-446b-bf74-8fa9bec91c76",
   "metadata": {},
   "outputs": [
    {
     "data": {
      "text/plain": [
       "['php', 'aba', 'radar', 'level']"
      ]
     },
     "execution_count": 33,
     "metadata": {},
     "output_type": "execute_result"
    }
   ],
   "source": [
    "#q6\n",
    "f=['python', 'php', 'aba', 'radar', 'level']\n",
    "\n",
    "list(filter(lambda x: (x == \"\".join(reversed(x))),f))"
   ]
  },
  {
   "cell_type": "code",
   "execution_count": null,
   "id": "fb2cf6aa-5036-43a9-adbf-48ddbe2cf3e3",
   "metadata": {},
   "outputs": [],
   "source": []
  }
 ],
 "metadata": {
  "kernelspec": {
   "display_name": "Python 3 (ipykernel)",
   "language": "python",
   "name": "python3"
  },
  "language_info": {
   "codemirror_mode": {
    "name": "ipython",
    "version": 3
   },
   "file_extension": ".py",
   "mimetype": "text/x-python",
   "name": "python",
   "nbconvert_exporter": "python",
   "pygments_lexer": "ipython3",
   "version": "3.10.8"
  }
 },
 "nbformat": 4,
 "nbformat_minor": 5
}
