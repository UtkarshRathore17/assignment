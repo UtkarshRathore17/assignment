{
 "cells": [
  {
   "cell_type": "code",
   "execution_count": 1,
   "id": "b59cde57-83c5-4b79-8f1d-ce7a9d464e3b",
   "metadata": {},
   "outputs": [],
   "source": [
    "\"\"\"\n",
    "\n",
    "Q1\n",
    "In Object-Oriented Programming, a class is a template that describes the attributes and methods of a group of \n",
    "objects. An object, on the other hand, is an instance of a class that represents a specific entity, which has\n",
    "its own unique set of attributes and can perform its own set of actions.\n",
    "in below example there is a class called car which have attributes color,model,year  \n",
    "\"\"\"\n",
    "class Car:\n",
    "    def __init__(self, color, model, year):\n",
    "        self.color = color\n",
    "        self.model = model\n",
    "        self.year = year\n",
    "#now we create an object\n",
    "red_ferrari = Car(\"red\", \"Ferrari\", 2022)"
   ]
  },
  {
   "cell_type": "code",
   "execution_count": 2,
   "id": "d6043a92-4be5-4de2-b463-464a0fe2d85c",
   "metadata": {},
   "outputs": [
    {
     "data": {
      "text/plain": [
       "'\\nQ2\\nfour pillars of object oriented programming are\\nencapsulation\\ninherietance\\npolymorphism\\nabstraction'"
      ]
     },
     "execution_count": 2,
     "metadata": {},
     "output_type": "execute_result"
    }
   ],
   "source": [
    "\"\"\"\n",
    "Q2\n",
    "four pillars of object oriented programming are\n",
    "encapsulation\n",
    "inherietance\n",
    "polymorphism\n",
    "abstraction\"\"\"\n"
   ]
  },
  {
   "cell_type": "code",
   "execution_count": 4,
   "id": "4b1ae2a5-3631-45ac-a2f2-b3349be76062",
   "metadata": {},
   "outputs": [],
   "source": [
    "\"\"\"\n",
    "Q3\n",
    "the __init__() function is a special method used to initialize the instance variables of a class when an \n",
    "object is created.\"\"\"\n",
    "class Person:\n",
    "    def __init__(self, name, age):\n",
    "        self.name = name\n",
    "        self.age = age\n",
    "\n",
    "person1=Person(\"utkarsh\",21)        "
   ]
  },
  {
   "cell_type": "code",
   "execution_count": 5,
   "id": "c23e2fd0-df4a-4c09-8925-c867d77e2aa1",
   "metadata": {},
   "outputs": [
    {
     "data": {
      "text/plain": [
       "'\\nQ4\\n\"self\"is a reference to the object that the method is being called on. It is a special parameter that is used \\nin instance methods to refer to the current object or instance of a class. \\nwe can use different word in place of self.'"
      ]
     },
     "execution_count": 5,
     "metadata": {},
     "output_type": "execute_result"
    }
   ],
   "source": [
    "\"\"\"\n",
    "Q4\n",
    "\"self\"is a reference to the object that the method is being called on. It is a special parameter that is used \n",
    "in instance methods to refer to the current object or instance of a class. \n",
    "we can use different word in place of self.\"\"\"\n"
   ]
  },
  {
   "cell_type": "code",
   "execution_count": null,
   "id": "d4253c9b-cd99-4e34-8546-8a3070d55331",
   "metadata": {},
   "outputs": [],
   "source": [
    "\"\"\"\n",
    "Q5\n",
    "Inheritance is a concept in object-oriented programming (OOP) that allows a new class to be based on an \n",
    "existing class.\n",
    "Single inheritance: In single inheritance, a subclass inherits from a single parent class.\n",
    "class Animal:\n",
    "    def __init__(self, name, age):\n",
    "        self.name = name\n",
    "        self.age = age\n",
    "        \n",
    "class Dog(Animal):\n",
    "    def __init__(self, name, age, breed):\n",
    "        super().__init__(name, age)\n",
    "        self.breed = breed\n",
    "        \n",
    "Multiple inheritance: In multiple inheritance, a subclass inherits from multiple parent classes.\n",
    "\n",
    "\n",
    "\"\"\"        "
   ]
  }
 ],
 "metadata": {
  "kernelspec": {
   "display_name": "Python 3 (ipykernel)",
   "language": "python",
   "name": "python3"
  },
  "language_info": {
   "codemirror_mode": {
    "name": "ipython",
    "version": 3
   },
   "file_extension": ".py",
   "mimetype": "text/x-python",
   "name": "python",
   "nbconvert_exporter": "python",
   "pygments_lexer": "ipython3",
   "version": "3.10.8"
  }
 },
 "nbformat": 4,
 "nbformat_minor": 5
}
