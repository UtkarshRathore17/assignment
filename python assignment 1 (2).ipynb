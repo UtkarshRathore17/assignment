{
 "cells": [
  {
   "cell_type": "code",
   "execution_count": 15,
   "id": "a8a40a2f-c84f-439f-83cb-f20441972b95",
   "metadata": {},
   "outputs": [
    {
     "name": "stdout",
     "output_type": "stream",
     "text": [
      "1\n",
      "2\n",
      "3\n",
      "4\n",
      "5\n",
      "6\n",
      "7\n",
      "8\n",
      "9\n",
      "10\n",
      "1\n",
      "2\n",
      "3\n",
      "4\n",
      "5\n",
      "6\n",
      "7\n",
      "8\n",
      "9\n",
      "10\n"
     ]
    }
   ],
   "source": [
    "\"\"\"A 'for' loop is generally used when you know the exact \n",
    "number of times you want to execute a set of instructions.\n",
    "example of 'for' loop\"\"\"\n",
    "for i in range(1, 11):\n",
    "    print(i)\n",
    "  \n",
    "\"\"\"A 'while' loop is used when you don't know the exact number of\n",
    "times you want to execute a set of instructions and you want \n",
    "to continue executing the instructions until a certain \n",
    "condition is met.\n",
    "example of 'while' loop \"\"\"\n",
    "\n",
    "i = 1\n",
    "while i <= 10:\n",
    "    print(i)\n",
    "    i += 1\n",
    "    \n",
    "    "
   ]
  },
  {
   "cell_type": "code",
   "execution_count": 1,
   "id": "06ded39a-cdd5-4adf-b26a-85d7786a6ab5",
   "metadata": {},
   "outputs": [
    {
     "name": "stdout",
     "output_type": "stream",
     "text": [
      "55 3628800\n"
     ]
    }
   ],
   "source": [
    "# Q2 using for loop\n",
    "\n",
    "s=0\n",
    "p=1\n",
    "for i in range(1,11):\n",
    "               s=s+i\n",
    "               p=p*i\n",
    "print(s,p)"
   ]
  },
  {
   "cell_type": "code",
   "execution_count": 2,
   "id": "858e2f49-bf64-4fad-88a3-b3adcc2c7c35",
   "metadata": {},
   "outputs": [
    {
     "name": "stdout",
     "output_type": "stream",
     "text": [
      "55 3628800\n"
     ]
    }
   ],
   "source": [
    "#Q2 using whie loop\n",
    "i=1\n",
    "s=0\n",
    "p=1\n",
    "while (i<=10):\n",
    "    s=s+i\n",
    "    p=p*i\n",
    "    i=i+1\n",
    "print(s,p)\n"
   ]
  },
  {
   "cell_type": "code",
   "execution_count": 14,
   "id": "e57c88d2-4b5a-46a7-b31f-c3f14de64096",
   "metadata": {},
   "outputs": [
    {
     "name": "stdin",
     "output_type": "stream",
     "text": [
      "Enter the units: 4567\n"
     ]
    },
    {
     "name": "stdout",
     "output_type": "stream",
     "text": [
      "87390.0\n"
     ]
    }
   ],
   "source": [
    "#Q3 \n",
    "units = int(input(\"Enter the units:\"))\n",
    "bill = 0\n",
    "\n",
    "if units <= 100:\n",
    "    bill = units * 4.5\n",
    "elif units <= 200:\n",
    "    bill = 100 * 4.5 + (units - 100) * 6\n",
    "elif units <= 300:\n",
    "    bill = 100 * 4.5 + 100 * 6 + (units - 200) * 10\n",
    "else:\n",
    "    bill = 100 * 4.5 + 100 * 6 + 100 * 10 + (units - 300) * 20\n",
    "print(bill)"
   ]
  },
  {
   "cell_type": "code",
   "execution_count": 4,
   "id": "dec3e067-a6fc-41be-881b-fb7a781def24",
   "metadata": {},
   "outputs": [
    {
     "data": {
      "text/plain": [
       "[2,\n",
       " 4,\n",
       " 5,\n",
       " 6,\n",
       " 8,\n",
       " 10,\n",
       " 12,\n",
       " 14,\n",
       " 15,\n",
       " 16,\n",
       " 18,\n",
       " 20,\n",
       " 22,\n",
       " 24,\n",
       " 25,\n",
       " 26,\n",
       " 28,\n",
       " 30,\n",
       " 32,\n",
       " 34,\n",
       " 35,\n",
       " 36,\n",
       " 38,\n",
       " 40,\n",
       " 42,\n",
       " 44,\n",
       " 45,\n",
       " 46,\n",
       " 48,\n",
       " 50,\n",
       " 52,\n",
       " 54,\n",
       " 55,\n",
       " 56,\n",
       " 58,\n",
       " 60,\n",
       " 62,\n",
       " 64,\n",
       " 65,\n",
       " 66,\n",
       " 68,\n",
       " 70,\n",
       " 72,\n",
       " 74,\n",
       " 75,\n",
       " 76,\n",
       " 78,\n",
       " 80,\n",
       " 82,\n",
       " 84,\n",
       " 85,\n",
       " 86,\n",
       " 88,\n",
       " 90,\n",
       " 92,\n",
       " 94,\n",
       " 95,\n",
       " 96,\n",
       " 98,\n",
       " 100]"
      ]
     },
     "execution_count": 4,
     "metadata": {},
     "output_type": "execute_result"
    }
   ],
   "source": [
    "# Q4 using for loop\n",
    "l=[]\n",
    "a=list(range(1,101))\n",
    "for i in a:\n",
    "    b=i*i*i\n",
    "    if b%4==0 or b%5==0:\n",
    "        l.append(i)\n",
    "l        "
   ]
  },
  {
   "cell_type": "code",
   "execution_count": 12,
   "id": "8cffb92c-1108-43dd-b7a5-5c554794df59",
   "metadata": {},
   "outputs": [
    {
     "data": {
      "text/plain": [
       "[2,\n",
       " 4,\n",
       " 5,\n",
       " 6,\n",
       " 8,\n",
       " 10,\n",
       " 12,\n",
       " 14,\n",
       " 15,\n",
       " 16,\n",
       " 18,\n",
       " 20,\n",
       " 22,\n",
       " 24,\n",
       " 25,\n",
       " 26,\n",
       " 28,\n",
       " 30,\n",
       " 32,\n",
       " 34,\n",
       " 35,\n",
       " 36,\n",
       " 38,\n",
       " 40,\n",
       " 42,\n",
       " 44,\n",
       " 45,\n",
       " 46,\n",
       " 48,\n",
       " 50,\n",
       " 52,\n",
       " 54,\n",
       " 55,\n",
       " 56,\n",
       " 58,\n",
       " 60,\n",
       " 62,\n",
       " 64,\n",
       " 65,\n",
       " 66,\n",
       " 68,\n",
       " 70,\n",
       " 72,\n",
       " 74,\n",
       " 75,\n",
       " 76,\n",
       " 78,\n",
       " 80,\n",
       " 82,\n",
       " 84,\n",
       " 85,\n",
       " 86,\n",
       " 88,\n",
       " 90,\n",
       " 92,\n",
       " 94,\n",
       " 95,\n",
       " 96,\n",
       " 98]"
      ]
     },
     "execution_count": 12,
     "metadata": {},
     "output_type": "execute_result"
    }
   ],
   "source": [
    "#Q4 using while loop\n",
    "l=[]\n",
    "a=list(range(1,101))\n",
    "\n",
    "i=1\n",
    "while i<len(a):\n",
    "    b=i*i*i\n",
    "   \n",
    "    if b%4==0 or b%5==0:\n",
    "        l.append(i)\n",
    "    i+=1    \n",
    "        \n",
    "l "
   ]
  },
  {
   "cell_type": "code",
   "execution_count": 6,
   "id": "0fdcf24a-e7e1-4a9c-b12f-231ce049eb80",
   "metadata": {},
   "outputs": [
    {
     "name": "stdin",
     "output_type": "stream",
     "text": [
      "Enter the string aaioue\n"
     ]
    },
    {
     "data": {
      "text/plain": [
       "6"
      ]
     },
     "execution_count": 6,
     "metadata": {},
     "output_type": "execute_result"
    }
   ],
   "source": [
    "# Q5 using for loop\n",
    "a=str(input(\"Enter the string\"))\n",
    "a=a.lower()\n",
    "b=list(a)\n",
    "count=0\n",
    "\n",
    "for i in b:\n",
    "    if(i==\"a\" or i==\"e\" or i==\"i\" or i==\"o\" or i==\"u\"):\n",
    "       count=count+1\n",
    "       \n",
    "        \n",
    "count\n"
   ]
  },
  {
   "cell_type": "code",
   "execution_count": 7,
   "id": "3f1cbfef-9dc1-49fe-8650-5b6026cc8b3a",
   "metadata": {},
   "outputs": [
    {
     "name": "stdin",
     "output_type": "stream",
     "text": [
      "enter the string aaaiouee\n"
     ]
    },
    {
     "data": {
      "text/plain": [
       "8"
      ]
     },
     "execution_count": 7,
     "metadata": {},
     "output_type": "execute_result"
    }
   ],
   "source": [
    "# Q5 using while loop\n",
    "string=input(\"enter the string\")\n",
    "string=string.lower()\n",
    "i=0\n",
    "count=0\n",
    "while i<len(string):\n",
    "    if(string[i]==\"a\" or string[i]==\"e\" or string[i]==\"i\" or string[i]==\"o\" or string[i]==\"u\"):\n",
    "       count=count+1\n",
    "       i=i+1\n",
    "    \n",
    "count\n",
    "\n"
   ]
  },
  {
   "cell_type": "code",
   "execution_count": null,
   "id": "d6420544-6359-4f6a-a81a-1ac1b1524f31",
   "metadata": {},
   "outputs": [],
   "source": []
  }
 ],
 "metadata": {
  "kernelspec": {
   "display_name": "Python 3 (ipykernel)",
   "language": "python",
   "name": "python3"
  },
  "language_info": {
   "codemirror_mode": {
    "name": "ipython",
    "version": 3
   },
   "file_extension": ".py",
   "mimetype": "text/x-python",
   "name": "python",
   "nbconvert_exporter": "python",
   "pygments_lexer": "ipython3",
   "version": "3.10.8"
  }
 },
 "nbformat": 4,
 "nbformat_minor": 5
}
