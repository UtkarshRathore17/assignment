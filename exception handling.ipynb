{
 "cells": [
  {
   "cell_type": "code",
   "execution_count": 2,
   "id": "e270454c-2b80-443b-83e2-77dd866a8f32",
   "metadata": {},
   "outputs": [
    {
     "data": {
      "text/plain": [
       "'\\nQ1\\nAn exception is an event which occur during the execution of the program that distubts the normal flow of the \\nprogram\\nwhen a Python script encounters a situation that it cannot cope with, it raises an exception. An exception is \\na Python object that represents an error.\\n\\nErrors mostly happen at compile-time like syntax error; however it can happen at runtime as well. Whereas an \\nException occurs at runtime '"
      ]
     },
     "execution_count": 2,
     "metadata": {},
     "output_type": "execute_result"
    }
   ],
   "source": [
    "\"\"\"\n",
    "Q1\n",
    "An exception is an event which occur during the execution of the program that distubts the normal flow of the \n",
    "program\n",
    "when a Python script encounters a situation that it cannot cope with, it raises an exception. An exception is \n",
    "a Python object that represents an error.\n",
    "\n",
    "Errors mostly happen at compile-time like syntax error; however it can happen at runtime as well. Whereas an \n",
    "Exception occurs at runtime \"\"\""
   ]
  },
  {
   "cell_type": "code",
   "execution_count": 3,
   "id": "7590bf3b-bd22-4a62-8952-53bfc044c5e9",
   "metadata": {},
   "outputs": [
    {
     "data": {
      "text/plain": [
       "'\\nQ2\\nIf the exception is not handled by an except clause, the exception is re-raised after the finally clause\\nhas been executed.\\ntry:\\n    numerator = 10\\n    denominator = 0\\n\\n    result = numerator/denominator\\n\\n    print(result)\\nexcept:\\n    print(\"Error: Denominator cannot be 0.\")\\n'"
      ]
     },
     "execution_count": 3,
     "metadata": {},
     "output_type": "execute_result"
    }
   ],
   "source": [
    "\"\"\"\n",
    "Q2\n",
    "If the exception is not handled by an except clause, the exception is re-raised after the finally clause\n",
    "has been executed.\n",
    "try:\n",
    "    numerator = 10\n",
    "    denominator = 0\n",
    "\n",
    "    result = numerator/denominator\n",
    "\n",
    "    print(result)\n",
    "except:\n",
    "    print(\"Error: Denominator cannot be 0.\")\n",
    "\"\"\""
   ]
  },
  {
   "cell_type": "code",
   "execution_count": 4,
   "id": "f1456d30-514a-41f8-846e-a43e1e5bf0a2",
   "metadata": {},
   "outputs": [
    {
     "data": {
      "text/plain": [
       "'\\nQ3\\nThe try and except block in Python is used to catch and handle exceptions. Python executes code following \\nthe try statement as a “normal” part of the program.\\ntry:\\n    numerator = 10\\n    denominator = 0\\n\\n    result = numerator/denominator\\n\\n    print(result)\\nexcept:\\n    print(\"Error: Denominator cannot be 0.\")\\n'"
      ]
     },
     "execution_count": 4,
     "metadata": {},
     "output_type": "execute_result"
    }
   ],
   "source": [
    "\"\"\"\n",
    "Q3\n",
    "The try and except block in Python is used to catch and handle exceptions. Python executes code following \n",
    "the try statement as a “normal” part of the program.\n",
    "try:\n",
    "    numerator = 10\n",
    "    denominator = 0\n",
    "\n",
    "    result = numerator/denominator\n",
    "\n",
    "    print(result)\n",
    "except:\n",
    "    print(\"Error: Denominator cannot be 0.\")\n",
    "\"\"\""
   ]
  },
  {
   "cell_type": "code",
   "execution_count": 5,
   "id": "fc2c5f04-0c76-4455-8c55-f2983acf3dd4",
   "metadata": {},
   "outputs": [
    {
     "data": {
      "text/plain": [
       "'\\nQ4\\ntry: try block is executed when there is no error in the code inside try block\\nelse: else block is executed when try block is si=ucceefully executed\\nfinally: finally is the block whic execute in any situation wheter try block is executed or not\\nraise: raise is used when we make custom exceptio handling block it is used reflect the mesage associated with \\nit\\ntry:\\n    f=open(\"test.txt\",\"w\")\\n    f.write(\"this is my first line\")\\n    \\nexcept Exception as e:\\n    print(\"this is my exception block \")#error dose not occured so it doesnot move into except block\\nelse:\\n    f.close()\\n    print(\"this will be executed when try blocjk has success fully executed\")#this will be executed when try \\n    #blocjk has success fully executed\\nfinally:\\n    print(\"eeeeeeeeeee\")#it will be executed in any situation\\n    \\ndef validateage(age):\\n    if age<0:\\n        raise validage(\"age cannot be negative\")\\n    elif age>200:\\n        raise validage(\"age cannot be greater than 200\")\\n    else:\\n        print(\"entred age is valid\")'"
      ]
     },
     "execution_count": 5,
     "metadata": {},
     "output_type": "execute_result"
    }
   ],
   "source": [
    "\"\"\"\n",
    "Q4\n",
    "try: try block is executed when there is no error in the code inside try block\n",
    "else: else block is executed when try block is si=ucceefully executed\n",
    "finally: finally is the block whic execute in any situation wheter try block is executed or not\n",
    "raise: raise is used when we make custom exceptio handling block it is used reflect the mesage associated with \n",
    "it\n",
    "try:\n",
    "    f=open(\"test.txt\",\"w\")\n",
    "    f.write(\"this is my first line\")\n",
    "    \n",
    "except Exception as e:\n",
    "    print(\"this is my exception block \")#error dose not occured so it doesnot move into except block\n",
    "else:\n",
    "    f.close()\n",
    "    print(\"this will be executed when try blocjk has success fully executed\")#this will be executed when try \n",
    "    #blocjk has success fully executed\n",
    "finally:\n",
    "    print(\"eeeeeeeeeee\")#it will be executed in any situation\n",
    "    \n",
    "def validateage(age):\n",
    "    if age<0:\n",
    "        raise validage(\"age cannot be negative\")\n",
    "    elif age>200:\n",
    "        raise validage(\"age cannot be greater than 200\")\n",
    "    else:\n",
    "        print(\"entred age is valid\")\"\"\"    \n"
   ]
  },
  {
   "cell_type": "code",
   "execution_count": null,
   "id": "1dc10180-a492-4834-b235-69c369ed7b33",
   "metadata": {},
   "outputs": [],
   "source": [
    "\"\"\"\n",
    "Q5\n",
    "we can define custom exceptions by creating a new class that is derived from the built-in Exception class.\n",
    "\n",
    "\n",
    "\n",
    "class InvalidAgeException(Exception):\n",
    "    \"Raised when the input value is less than 18\"\n",
    "    pass\n",
    "\n",
    "number = 18\n",
    "\n",
    "try:\n",
    "    input_num = int(input(\"Enter a number: \"))\n",
    "    if input_num < number:\n",
    "        raise InvalidAgeException\n",
    "    else:\n",
    "        print(\"Eligible to Vote\")\n",
    "        \n",
    "except InvalidAgeException:\n",
    "    print(\"Exception occurred: Invalid Age\")"
   ]
  }
 ],
 "metadata": {
  "kernelspec": {
   "display_name": "Python 3 (ipykernel)",
   "language": "python",
   "name": "python3"
  },
  "language_info": {
   "codemirror_mode": {
    "name": "ipython",
    "version": 3
   },
   "file_extension": ".py",
   "mimetype": "text/x-python",
   "name": "python",
   "nbconvert_exporter": "python",
   "pygments_lexer": "ipython3",
   "version": "3.10.8"
  }
 },
 "nbformat": 4,
 "nbformat_minor": 5
}
