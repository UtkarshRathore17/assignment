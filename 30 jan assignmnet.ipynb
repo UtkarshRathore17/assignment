{
 "cells": [
  {
   "cell_type": "code",
   "execution_count": 6,
   "id": "9bef7130-5799-4691-a013-a706f7c5ca44",
   "metadata": {},
   "outputs": [
    {
     "name": "stdin",
     "output_type": "stream",
     "text": [
      "Enter your percentage out of 100: 990\n"
     ]
    },
    {
     "name": "stdout",
     "output_type": "stream",
     "text": [
      "percentage entered is out of bound\n"
     ]
    }
   ],
   "source": [
    "#Q1\n",
    "p=int(input(\"Enter your percentage out of 100:\"))\n",
    "if p>90 and p<=100:\n",
    "    print(\"Grade:'A'\")\n",
    "elif p>80 and p<=90:\n",
    "    print(\"Grade:'B'\")    \n",
    "elif p>=60 and p<=80:\n",
    "    print(\"Grade:'C'\") \n",
    "elif p<60 and p>0:\n",
    "    print(\"Grade:'D'\")  \n",
    "else:\n",
    "    print(\"percentage entered is out of bound\")"
   ]
  },
  {
   "cell_type": "code",
   "execution_count": 8,
   "id": "575d5799-1be5-4614-886d-69ee2e648ef8",
   "metadata": {},
   "outputs": [
    {
     "name": "stdin",
     "output_type": "stream",
     "text": [
      "Enter the price of bike 1000\n"
     ]
    },
    {
     "name": "stdout",
     "output_type": "stream",
     "text": [
      "yours road tax equals to: 50.0\n"
     ]
    }
   ],
   "source": [
    "#Q2\n",
    "a=int(input(\"Enter the price of bike\"))\n",
    "if a>100000:\n",
    "    b=(a*15)/100\n",
    "    print(\"yours road tax equals to:\",b)\n",
    "elif a>50000 and a<=100000:\n",
    "    c=(a*10)/100\n",
    "    print(\"yours road tax equals to:\",c)    \n",
    "elif a<50000:\n",
    "    d=(a*5)/100\n",
    "    print(\"yours road tax equals to:\",d)    "
   ]
  },
  {
   "cell_type": "code",
   "execution_count": 14,
   "id": "dff47711-9e7b-495b-bb84-7ab7b976d4d8",
   "metadata": {},
   "outputs": [
    {
     "name": "stdin",
     "output_type": "stream",
     "text": [
      "Enter the city among Delhi, Agra, Jaipur: Delhi\n"
     ]
    },
    {
     "name": "stdout",
     "output_type": "stream",
     "text": [
      "the monumnet for Delhi is Red fort\n"
     ]
    }
   ],
   "source": [
    "#Q3\n",
    "q=input(\"Enter the city among Delhi, Agra, Jaipur:\")\n",
    "a={\"Delhi\":\"Red fort\",\"Agra\":\"Taj Mahal\",\"Jaipur\":\"Jai Mahal\"}\n",
    "if q in a:\n",
    "    print(f\"the monumnet for {q} is {a[q]}\")\n",
    "else:\n",
    "          print(\"you enterd the wrong input\")"
   ]
  },
  {
   "cell_type": "code",
   "execution_count": 8,
   "id": "e6f874fc-0500-400e-8e15-af619b570554",
   "metadata": {},
   "outputs": [
    {
     "name": "stdin",
     "output_type": "stream",
     "text": [
      "Enter the number: 990\n"
     ]
    },
    {
     "name": "stdout",
     "output_type": "stream",
     "text": [
      "5\n"
     ]
    }
   ],
   "source": [
    "#Q4\n",
    "a=int(input(\"Enter the number:\"))\n",
    "count=0\n",
    "while a>=10:\n",
    "    \n",
    "    a=a/3\n",
    "    count=count+1\n",
    "    \n",
    "    \n",
    "print(count)    "
   ]
  },
  {
   "cell_type": "code",
   "execution_count": null,
   "id": "899a98ed-c08f-4af1-aa01-47a886c698b2",
   "metadata": {},
   "outputs": [],
   "source": [
    "#Q5\n",
    "\"\"\"\n",
    "A while loop is a type of loop in programming that\n",
    "repeatedly executes a block of code as long as a certain \n",
    "condition is true. The loop continues to execute until the \n",
    "condition becomes false. While loops are commonly used in\n",
    "programming to iterate over a set of instructions, perform \n",
    "a repetitive task, or wait for user input until a certain\n",
    "condition is met.\"\"\"\n",
    "i = 1\n",
    "while i <= 5:\n",
    "    print(i)\n",
    "    i += 1\n"
   ]
  },
  {
   "cell_type": "code",
   "execution_count": 9,
   "id": "b776cecb-c755-4449-99f7-b53d1e3f98b8",
   "metadata": {},
   "outputs": [
    {
     "name": "stdout",
     "output_type": "stream",
     "text": [
      "1 \n",
      "1 2 \n",
      "1 2 3 \n",
      "1 2 3 4 \n",
      "1 2 3 4 5 \n",
      "*****\n",
      "****\n",
      "***\n",
      "**\n",
      "*\n",
      "    *\n",
      "   **\n",
      "  ***\n",
      " ****\n",
      "*****\n"
     ]
    }
   ],
   "source": [
    "#Q6\n",
    "#pattern 1\n",
    "i = 1\n",
    "while i <= 5:\n",
    "    j = 1\n",
    "    while j <= i:\n",
    "        print(j, end=' ')\n",
    "        j += 1\n",
    "    print()\n",
    "    i += 1\n",
    "# Pattern 2\n",
    "i = 5\n",
    "while i >= 1:\n",
    "    j = 1\n",
    "    while j <= i:\n",
    "        print('*', end='')\n",
    "        j += 1\n",
    "    print()\n",
    "    i -= 1\n",
    "# Pattern 3\n",
    "i = 1\n",
    "while i <= 5:\n",
    "    j = 1\n",
    "    while j <= 5-i:\n",
    "        print(' ', end='')\n",
    "        j += 1\n",
    "    j = 1\n",
    "    while j <= i:\n",
    "        print('*', end='')\n",
    "        j += 1\n",
    "    print()\n",
    "    i += 1    "
   ]
  },
  {
   "cell_type": "code",
   "execution_count": 12,
   "id": "c9402627-faf6-4a08-930a-2c9d17f97dd0",
   "metadata": {},
   "outputs": [
    {
     "name": "stdout",
     "output_type": "stream",
     "text": [
      "10\n",
      "9\n",
      "8\n",
      "7\n",
      "6\n",
      "5\n",
      "4\n",
      "3\n",
      "2\n",
      "1\n"
     ]
    }
   ],
   "source": [
    "#Q7\n",
    "i=10\n",
    "while i>=1:\n",
    "    print(i)\n",
    "    i=i-1"
   ]
  },
  {
   "cell_type": "code",
   "execution_count": null,
   "id": "2fcc7c09-0206-4cad-b6b1-09fe8939593c",
   "metadata": {},
   "outputs": [],
   "source": [
    "#Q8\n",
    "i=10\n",
    "while i>=1:\n",
    "    print(i)\n",
    "    i=i-1"
   ]
  }
 ],
 "metadata": {
  "kernelspec": {
   "display_name": "Python 3 (ipykernel)",
   "language": "python",
   "name": "python3"
  },
  "language_info": {
   "codemirror_mode": {
    "name": "ipython",
    "version": 3
   },
   "file_extension": ".py",
   "mimetype": "text/x-python",
   "name": "python",
   "nbconvert_exporter": "python",
   "pygments_lexer": "ipython3",
   "version": "3.10.8"
  }
 },
 "nbformat": 4,
 "nbformat_minor": 5
}
