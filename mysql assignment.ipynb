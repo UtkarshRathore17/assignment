{
 "cells": [
  {
   "cell_type": "code",
   "execution_count": 1,
   "id": "a7bc3428-13be-44f8-a8ea-4f0adfea2446",
   "metadata": {},
   "outputs": [
    {
     "data": {
      "text/plain": [
       "'\\nQ1\\nA database is a collection of organized data that is stored and accessed electronically. It is designed to \\nstore and manage large volumes of information efficiently and securely. Databases are used in various \\napplications, including web applications, mobile apps, enterprise systems, and more.\\n\\ndifferences\\n SQL databases use a relational data model that organizes data into tables with predefined schemas, while \\n NoSQL databases use a flexible, schema-less data model.\\n SQL databases use SQL as their query language, while NoSQL databases use different query languages or APIs.\\n NoSQL databases are designed to be highly scalable and can handle large volumes of unstructured data, while\\n SQL databases are not as scalable and are better suited for structured data.'"
      ]
     },
     "execution_count": 1,
     "metadata": {},
     "output_type": "execute_result"
    }
   ],
   "source": [
    "\"\"\"\n",
    "Q1\n",
    "A database is a collection of organized data that is stored and accessed electronically. It is designed to \n",
    "store and manage large volumes of information efficiently and securely. Databases are used in various \n",
    "applications, including web applications, mobile apps, enterprise systems, and more.\n",
    "\n",
    "differences\n",
    " SQL databases use a relational data model that organizes data into tables with predefined schemas, while \n",
    " NoSQL databases use a flexible, schema-less data model.\n",
    " SQL databases use SQL as their query language, while NoSQL databases use different query languages or APIs.\n",
    " NoSQL databases are designed to be highly scalable and can handle large volumes of unstructured data, while\n",
    " SQL databases are not as scalable and are better suited for structured data.\"\"\""
   ]
  },
  {
   "cell_type": "code",
   "execution_count": 3,
   "id": "373bb4a4-4917-40c3-beb6-7c14d506af89",
   "metadata": {},
   "outputs": [
    {
     "data": {
      "text/plain": [
       "'\\nQ2\\nDDL (Data Definition Language) is a set of SQL statements that are used to define and manage the structure \\nof a database, including creating, modifying, and deleting database objects such as tables, views, indexes, \\nand constraints. DDL statements do not manipulate data but rather define the schema of the database.\\nCREATE statement: The CREATE statement is used to create a new database object, such as a table, view, or \\nindex\\nCREATE TABLE employees (\\n  id INT PRIMARY KEY,\\n  name VARCHAR(50),\\n  salary FLOAT\\n  \\n);\\nDROP statement: The DROP statement is used to delete an existing database object, such as a table, view, or\\nindex.\\nDROP TABLE employees;\\nALTER statement: The ALTER statement is used to modify the structure of an existing database object, such as\\na table or view.\\nALTER TABLE employees ADD COLUMN email VARCHAR(100);\\nTRUNCATE statement: The TRUNCATE statement is used to delete all rows from a table, while keeping the table \\nstructure intact.\\nTRUNCATE TABLE employees;'"
      ]
     },
     "execution_count": 3,
     "metadata": {},
     "output_type": "execute_result"
    }
   ],
   "source": [
    "\"\"\"\n",
    "Q2\n",
    "DDL (Data Definition Language) is a set of SQL statements that are used to define and manage the structure \n",
    "of a database, including creating, modifying, and deleting database objects such as tables, views, indexes, \n",
    "and constraints. DDL statements do not manipulate data but rather define the schema of the database.\n",
    "CREATE statement: The CREATE statement is used to create a new database object, such as a table, view, or \n",
    "index\n",
    "CREATE TABLE employees (\n",
    "  id INT PRIMARY KEY,\n",
    "  name VARCHAR(50),\n",
    "  salary FLOAT\n",
    "  \n",
    ");\n",
    "DROP statement: The DROP statement is used to delete an existing database object, such as a table, view, or\n",
    "index.\n",
    "DROP TABLE employees;\n",
    "ALTER statement: The ALTER statement is used to modify the structure of an existing database object, such as\n",
    "a table or view.\n",
    "ALTER TABLE employees ADD COLUMN email VARCHAR(100);\n",
    "TRUNCATE statement: The TRUNCATE statement is used to delete all rows from a table, while keeping the table \n",
    "structure intact.\n",
    "TRUNCATE TABLE employees;\"\"\"\n"
   ]
  },
  {
   "cell_type": "code",
   "execution_count": null,
   "id": "308fbfa0-e822-430d-a294-cc67180c0db7",
   "metadata": {},
   "outputs": [],
   "source": [
    "\"\"\"\n",
    "Q3\n",
    "DML (Data Manipulation Language) is a set of SQL statements that are used to modify data stored in a database.\n",
    "DML statements manipulate the data stored in tables by inserting, updating, or deleting rows\n",
    "INSERT statement: The INSERT statement is used to insert new rows into a table.\n",
    "INSERT INTO employees (id, name, salary) VALUES (1, 'John', 50000);\n",
    "UPDATE statement: The UPDATE statement is used to update existing rows in a table.\n",
    "UPDATE employees SET salary = 60000 WHERE id = 1;\n",
    "DELETE statement: The DELETE statement is used to delete one or more rows from a table.\n",
    "DELETE FROM employees WHERE id = 1;\n",
    "\"\"\""
   ]
  },
  {
   "cell_type": "code",
   "execution_count": null,
   "id": "c376d996-66d5-4512-b9dc-8ea09d131b66",
   "metadata": {},
   "outputs": [],
   "source": [
    "\"\"\"\n",
    "Q4\n",
    "DQL (Data Query Language) is a subset of SQL that is used to retrieve data from a database. DQL statements, \n",
    "such as SELECT, are used to query one or more tables in a database and return the results in a specified \n",
    "format\n",
    "Suppose we have a table called employees with the following columns: id, name, department, and salary. \n",
    "We can use the SELECT statement to retrieve all the data from this table, like this:\n",
    "SELECT * FROM employees;\n",
    "\"\"\""
   ]
  },
  {
   "cell_type": "code",
   "execution_count": null,
   "id": "99887d09-b543-40dd-80ef-9fad32db3285",
   "metadata": {},
   "outputs": [],
   "source": [
    "\"\"\"Q5\n",
    "A Primary Key is a column or set of columns in a table that uniquely identifies each row in that table. It\n",
    "must have a unique value for each row, and it cannot contain NULL values. A primary key can be composed of \n",
    "one or more columns, and it is used to enforce data integrity and ensure that each row in a table can be\n",
    "uniquely identified\n",
    "A Foreign Key is a column or set of columns in one table that refers to the Primary Key in another table. It\n",
    "establishes a relationship between two tables and is used to enforce referential integrity. A foreign key \n",
    "ensures that each value in the referencing table corresponds to a valid row in the referenced table.\n",
    "\"\"\""
   ]
  },
  {
   "cell_type": "code",
   "execution_count": null,
   "id": "3e3a169c-4353-4529-8095-22bd75db8925",
   "metadata": {},
   "outputs": [],
   "source": [
    "\"\"\"Q6\n",
    "import mysql.connector\n",
    "mydb=mysql.connector.connect(host=\"localhost\",username=\"abc\",password=\"password\")\n",
    "mycursor=mydb.cursor()\n",
    "mycursor.execute(\"select * from `TEST2`.test_table;\")\n",
    "for i in mycursor.fetchall():\n",
    "    print(i)\n",
    "mydb.close()\n",
    "\n",
    "the cursor() method creates a cursor object that is used to execute SQL statements and fetch data from the \n",
    "database. The cursor() method is called on a connection object\n",
    "The execute() method is used to execute SQL statements and commands that modify the database. The execute() \n",
    "method is called on a cursor object, and it takes a string parameter \"\"\""
   ]
  },
  {
   "cell_type": "code",
   "execution_count": null,
   "id": "132d08cb-364c-4099-acea-33fbae765c49",
   "metadata": {},
   "outputs": [],
   "source": [
    "\"\"\"\n",
    "Q7\n",
    "FROM clause: This clause identifies the table(s) from which data is being selected.\n",
    "WHERE clause: This clause filters the rows based on the specified conditions.\n",
    "GROUP BY clause: This clause groups the rows based on specified columns.\n",
    "HAVING clause: This clause filters the groups based on the specified conditions.\n",
    "SELECT clause: This clause selects the columns to be included in the result set.\n",
    "ORDER BY clause: This clause sorts the rows based on the specified columns.\n",
    "LIMIT clause: This clause limits the number of rows returned in the result set.\"\"\""
   ]
  }
 ],
 "metadata": {
  "kernelspec": {
   "display_name": "Python 3 (ipykernel)",
   "language": "python",
   "name": "python3"
  },
  "language_info": {
   "codemirror_mode": {
    "name": "ipython",
    "version": 3
   },
   "file_extension": ".py",
   "mimetype": "text/x-python",
   "name": "python",
   "nbconvert_exporter": "python",
   "pygments_lexer": "ipython3",
   "version": "3.10.8"
  }
 },
 "nbformat": 4,
 "nbformat_minor": 5
}
